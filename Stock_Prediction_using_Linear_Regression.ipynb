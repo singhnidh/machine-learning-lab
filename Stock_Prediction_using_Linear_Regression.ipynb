{
  "nbformat": 4,
  "nbformat_minor": 0,
  "metadata": {
    "colab": {
      "provenance": [],
      "gpuType": "T4",
      "authorship_tag": "ABX9TyNTELA1aoj4xeRU1F0yyltI",
      "include_colab_link": true
    },
    "kernelspec": {
      "name": "python3",
      "display_name": "Python 3"
    },
    "language_info": {
      "name": "python"
    },
    "accelerator": "GPU"
  },
  "cells": [
    {
      "cell_type": "markdown",
      "metadata": {
        "id": "view-in-github",
        "colab_type": "text"
      },
      "source": [
        "<a href=\"https://colab.research.google.com/github/singhnidh/machine-learning-lab/blob/main/Stock_Prediction_using_Linear_Regression.ipynb\" target=\"_parent\"><img src=\"https://colab.research.google.com/assets/colab-badge.svg\" alt=\"Open In Colab\"/></a>"
      ]
    },
    {
      "cell_type": "code",
      "execution_count": null,
      "metadata": {
        "id": "w-muYaHvesrW"
      },
      "outputs": [],
      "source": [
        "import pandas as pd\n",
        "import matplotlib.pyplot as plt\n",
        "from pylab import rcParams\n",
        "import numpy as np\n",
        "import seaborn as sns\n",
        "import os\n",
        "\n",
        "from sklearn.ensemble import RandomForestRegressor\n",
        "from sklearn.model_selection import cross_val_score, train_test_split, GridSearchCV\n",
        "from sklearn.feature_selection import RFECV, SelectFromModel, SelectKBest\n",
        "from sklearn.preprocessing import StandardScaler\n",
        "from sklearn import metrics\n",
        "%matplotlib inline"
      ]
    },
    {
      "cell_type": "markdown",
      "source": [
        "#Load the data\n",
        "I will use the Apple Stock Data for this notebook"
      ],
      "metadata": {
        "id": "JguL05vPlLKA"
      }
    },
    {
      "cell_type": "code",
      "source": [
        "Stock = pd.read_csv('/content/AAPL.csv',  index_col=0)\n",
        "df_Stock = Stock\n",
        "df_Stock = df_Stock.rename(columns={'Close(t)':'Close'})\n",
        "df_Stock.head()"
      ],
      "metadata": {
        "colab": {
          "base_uri": "https://localhost:8080/",
          "height": 435
        },
        "id": "jqZo9KGJlC0_",
        "outputId": "ef84762b-2cf8-4f97-928b-1a077cba1196"
      },
      "execution_count": null,
      "outputs": [
        {
          "output_type": "execute_result",
          "data": {
            "text/plain": [
              "            Open  High   Low  Close     Volume      SD20  Upper_Band  \\\n",
              "Date                                                                   \n",
              "2005-10-17  6.66  6.69  6.50   6.60  154208600  0.169237    6.827473   \n",
              "2005-10-18  6.57  6.66  6.44   6.45  152397000  0.168339    6.819677   \n",
              "2005-10-19  6.43  6.78  6.32   6.78  252170800  0.180306    6.861112   \n",
              "2005-10-20  6.72  6.97  6.71   6.93  339440500  0.202674    6.931847   \n",
              "2005-10-21  7.02  7.03  6.83   6.87  199181500  0.216680    6.974860   \n",
              "\n",
              "            Lower_Band  S_Close(t-1)  S_Close(t-2)  ...  QQQ_MA10  QQQ_MA20  \\\n",
              "Date                                                ...                       \n",
              "2005-10-17    6.150527          6.67          6.63  ...    33.692   33.9970   \n",
              "2005-10-18    6.146323          6.60          6.67  ...    33.570   33.9525   \n",
              "2005-10-19    6.139888          6.45          6.60  ...    33.562   33.9600   \n",
              "2005-10-20    6.121153          6.78          6.45  ...    33.567   33.9455   \n",
              "2005-10-21    6.108140          6.93          6.78  ...    33.586   33.9365   \n",
              "\n",
              "            QQQ_MA50  SnP_Close  SnP(t-1))  SnP(t-5)  DJIA_Close  DJIA(t-1))  \\\n",
              "Date                                                                           \n",
              "2005-10-17   34.2690    1190.10    1186.57   1187.33    10348.10    10287.34   \n",
              "2005-10-18   34.2466    1178.14    1190.10   1184.87    10285.26    10348.10   \n",
              "2005-10-19   34.2330    1195.76    1178.14   1177.68    10414.13    10285.26   \n",
              "2005-10-20   34.2190    1177.80    1195.76   1176.84    10281.10    10414.13   \n",
              "2005-10-21   34.2034    1179.59    1177.80   1186.57    10215.22    10281.10   \n",
              "\n",
              "            DJIA(t-5)  Close_forcast  \n",
              "Date                                  \n",
              "2005-10-17   10238.76           6.45  \n",
              "2005-10-18   10253.17           6.78  \n",
              "2005-10-19   10216.91           6.93  \n",
              "2005-10-20   10216.59           6.87  \n",
              "2005-10-21   10287.34           7.01  \n",
              "\n",
              "[5 rows x 63 columns]"
            ],
            "text/html": [
              "\n",
              "  <div id=\"df-80880717-9a7f-41bf-b6de-99dbe504e32a\">\n",
              "    <div class=\"colab-df-container\">\n",
              "      <div>\n",
              "<style scoped>\n",
              "    .dataframe tbody tr th:only-of-type {\n",
              "        vertical-align: middle;\n",
              "    }\n",
              "\n",
              "    .dataframe tbody tr th {\n",
              "        vertical-align: top;\n",
              "    }\n",
              "\n",
              "    .dataframe thead th {\n",
              "        text-align: right;\n",
              "    }\n",
              "</style>\n",
              "<table border=\"1\" class=\"dataframe\">\n",
              "  <thead>\n",
              "    <tr style=\"text-align: right;\">\n",
              "      <th></th>\n",
              "      <th>Open</th>\n",
              "      <th>High</th>\n",
              "      <th>Low</th>\n",
              "      <th>Close</th>\n",
              "      <th>Volume</th>\n",
              "      <th>SD20</th>\n",
              "      <th>Upper_Band</th>\n",
              "      <th>Lower_Band</th>\n",
              "      <th>S_Close(t-1)</th>\n",
              "      <th>S_Close(t-2)</th>\n",
              "      <th>...</th>\n",
              "      <th>QQQ_MA10</th>\n",
              "      <th>QQQ_MA20</th>\n",
              "      <th>QQQ_MA50</th>\n",
              "      <th>SnP_Close</th>\n",
              "      <th>SnP(t-1))</th>\n",
              "      <th>SnP(t-5)</th>\n",
              "      <th>DJIA_Close</th>\n",
              "      <th>DJIA(t-1))</th>\n",
              "      <th>DJIA(t-5)</th>\n",
              "      <th>Close_forcast</th>\n",
              "    </tr>\n",
              "    <tr>\n",
              "      <th>Date</th>\n",
              "      <th></th>\n",
              "      <th></th>\n",
              "      <th></th>\n",
              "      <th></th>\n",
              "      <th></th>\n",
              "      <th></th>\n",
              "      <th></th>\n",
              "      <th></th>\n",
              "      <th></th>\n",
              "      <th></th>\n",
              "      <th></th>\n",
              "      <th></th>\n",
              "      <th></th>\n",
              "      <th></th>\n",
              "      <th></th>\n",
              "      <th></th>\n",
              "      <th></th>\n",
              "      <th></th>\n",
              "      <th></th>\n",
              "      <th></th>\n",
              "      <th></th>\n",
              "    </tr>\n",
              "  </thead>\n",
              "  <tbody>\n",
              "    <tr>\n",
              "      <th>2005-10-17</th>\n",
              "      <td>6.66</td>\n",
              "      <td>6.69</td>\n",
              "      <td>6.50</td>\n",
              "      <td>6.60</td>\n",
              "      <td>154208600</td>\n",
              "      <td>0.169237</td>\n",
              "      <td>6.827473</td>\n",
              "      <td>6.150527</td>\n",
              "      <td>6.67</td>\n",
              "      <td>6.63</td>\n",
              "      <td>...</td>\n",
              "      <td>33.692</td>\n",
              "      <td>33.9970</td>\n",
              "      <td>34.2690</td>\n",
              "      <td>1190.10</td>\n",
              "      <td>1186.57</td>\n",
              "      <td>1187.33</td>\n",
              "      <td>10348.10</td>\n",
              "      <td>10287.34</td>\n",
              "      <td>10238.76</td>\n",
              "      <td>6.45</td>\n",
              "    </tr>\n",
              "    <tr>\n",
              "      <th>2005-10-18</th>\n",
              "      <td>6.57</td>\n",
              "      <td>6.66</td>\n",
              "      <td>6.44</td>\n",
              "      <td>6.45</td>\n",
              "      <td>152397000</td>\n",
              "      <td>0.168339</td>\n",
              "      <td>6.819677</td>\n",
              "      <td>6.146323</td>\n",
              "      <td>6.60</td>\n",
              "      <td>6.67</td>\n",
              "      <td>...</td>\n",
              "      <td>33.570</td>\n",
              "      <td>33.9525</td>\n",
              "      <td>34.2466</td>\n",
              "      <td>1178.14</td>\n",
              "      <td>1190.10</td>\n",
              "      <td>1184.87</td>\n",
              "      <td>10285.26</td>\n",
              "      <td>10348.10</td>\n",
              "      <td>10253.17</td>\n",
              "      <td>6.78</td>\n",
              "    </tr>\n",
              "    <tr>\n",
              "      <th>2005-10-19</th>\n",
              "      <td>6.43</td>\n",
              "      <td>6.78</td>\n",
              "      <td>6.32</td>\n",
              "      <td>6.78</td>\n",
              "      <td>252170800</td>\n",
              "      <td>0.180306</td>\n",
              "      <td>6.861112</td>\n",
              "      <td>6.139888</td>\n",
              "      <td>6.45</td>\n",
              "      <td>6.60</td>\n",
              "      <td>...</td>\n",
              "      <td>33.562</td>\n",
              "      <td>33.9600</td>\n",
              "      <td>34.2330</td>\n",
              "      <td>1195.76</td>\n",
              "      <td>1178.14</td>\n",
              "      <td>1177.68</td>\n",
              "      <td>10414.13</td>\n",
              "      <td>10285.26</td>\n",
              "      <td>10216.91</td>\n",
              "      <td>6.93</td>\n",
              "    </tr>\n",
              "    <tr>\n",
              "      <th>2005-10-20</th>\n",
              "      <td>6.72</td>\n",
              "      <td>6.97</td>\n",
              "      <td>6.71</td>\n",
              "      <td>6.93</td>\n",
              "      <td>339440500</td>\n",
              "      <td>0.202674</td>\n",
              "      <td>6.931847</td>\n",
              "      <td>6.121153</td>\n",
              "      <td>6.78</td>\n",
              "      <td>6.45</td>\n",
              "      <td>...</td>\n",
              "      <td>33.567</td>\n",
              "      <td>33.9455</td>\n",
              "      <td>34.2190</td>\n",
              "      <td>1177.80</td>\n",
              "      <td>1195.76</td>\n",
              "      <td>1176.84</td>\n",
              "      <td>10281.10</td>\n",
              "      <td>10414.13</td>\n",
              "      <td>10216.59</td>\n",
              "      <td>6.87</td>\n",
              "    </tr>\n",
              "    <tr>\n",
              "      <th>2005-10-21</th>\n",
              "      <td>7.02</td>\n",
              "      <td>7.03</td>\n",
              "      <td>6.83</td>\n",
              "      <td>6.87</td>\n",
              "      <td>199181500</td>\n",
              "      <td>0.216680</td>\n",
              "      <td>6.974860</td>\n",
              "      <td>6.108140</td>\n",
              "      <td>6.93</td>\n",
              "      <td>6.78</td>\n",
              "      <td>...</td>\n",
              "      <td>33.586</td>\n",
              "      <td>33.9365</td>\n",
              "      <td>34.2034</td>\n",
              "      <td>1179.59</td>\n",
              "      <td>1177.80</td>\n",
              "      <td>1186.57</td>\n",
              "      <td>10215.22</td>\n",
              "      <td>10281.10</td>\n",
              "      <td>10287.34</td>\n",
              "      <td>7.01</td>\n",
              "    </tr>\n",
              "  </tbody>\n",
              "</table>\n",
              "<p>5 rows × 63 columns</p>\n",
              "</div>\n",
              "      <button class=\"colab-df-convert\" onclick=\"convertToInteractive('df-80880717-9a7f-41bf-b6de-99dbe504e32a')\"\n",
              "              title=\"Convert this dataframe to an interactive table.\"\n",
              "              style=\"display:none;\">\n",
              "        \n",
              "  <svg xmlns=\"http://www.w3.org/2000/svg\" height=\"24px\"viewBox=\"0 0 24 24\"\n",
              "       width=\"24px\">\n",
              "    <path d=\"M0 0h24v24H0V0z\" fill=\"none\"/>\n",
              "    <path d=\"M18.56 5.44l.94 2.06.94-2.06 2.06-.94-2.06-.94-.94-2.06-.94 2.06-2.06.94zm-11 1L8.5 8.5l.94-2.06 2.06-.94-2.06-.94L8.5 2.5l-.94 2.06-2.06.94zm10 10l.94 2.06.94-2.06 2.06-.94-2.06-.94-.94-2.06-.94 2.06-2.06.94z\"/><path d=\"M17.41 7.96l-1.37-1.37c-.4-.4-.92-.59-1.43-.59-.52 0-1.04.2-1.43.59L10.3 9.45l-7.72 7.72c-.78.78-.78 2.05 0 2.83L4 21.41c.39.39.9.59 1.41.59.51 0 1.02-.2 1.41-.59l7.78-7.78 2.81-2.81c.8-.78.8-2.07 0-2.86zM5.41 20L4 18.59l7.72-7.72 1.47 1.35L5.41 20z\"/>\n",
              "  </svg>\n",
              "      </button>\n",
              "      \n",
              "  <style>\n",
              "    .colab-df-container {\n",
              "      display:flex;\n",
              "      flex-wrap:wrap;\n",
              "      gap: 12px;\n",
              "    }\n",
              "\n",
              "    .colab-df-convert {\n",
              "      background-color: #E8F0FE;\n",
              "      border: none;\n",
              "      border-radius: 50%;\n",
              "      cursor: pointer;\n",
              "      display: none;\n",
              "      fill: #1967D2;\n",
              "      height: 32px;\n",
              "      padding: 0 0 0 0;\n",
              "      width: 32px;\n",
              "    }\n",
              "\n",
              "    .colab-df-convert:hover {\n",
              "      background-color: #E2EBFA;\n",
              "      box-shadow: 0px 1px 2px rgba(60, 64, 67, 0.3), 0px 1px 3px 1px rgba(60, 64, 67, 0.15);\n",
              "      fill: #174EA6;\n",
              "    }\n",
              "\n",
              "    [theme=dark] .colab-df-convert {\n",
              "      background-color: #3B4455;\n",
              "      fill: #D2E3FC;\n",
              "    }\n",
              "\n",
              "    [theme=dark] .colab-df-convert:hover {\n",
              "      background-color: #434B5C;\n",
              "      box-shadow: 0px 1px 3px 1px rgba(0, 0, 0, 0.15);\n",
              "      filter: drop-shadow(0px 1px 2px rgba(0, 0, 0, 0.3));\n",
              "      fill: #FFFFFF;\n",
              "    }\n",
              "  </style>\n",
              "\n",
              "      <script>\n",
              "        const buttonEl =\n",
              "          document.querySelector('#df-80880717-9a7f-41bf-b6de-99dbe504e32a button.colab-df-convert');\n",
              "        buttonEl.style.display =\n",
              "          google.colab.kernel.accessAllowed ? 'block' : 'none';\n",
              "\n",
              "        async function convertToInteractive(key) {\n",
              "          const element = document.querySelector('#df-80880717-9a7f-41bf-b6de-99dbe504e32a');\n",
              "          const dataTable =\n",
              "            await google.colab.kernel.invokeFunction('convertToInteractive',\n",
              "                                                     [key], {});\n",
              "          if (!dataTable) return;\n",
              "\n",
              "          const docLinkHtml = 'Like what you see? Visit the ' +\n",
              "            '<a target=\"_blank\" href=https://colab.research.google.com/notebooks/data_table.ipynb>data table notebook</a>'\n",
              "            + ' to learn more about interactive tables.';\n",
              "          element.innerHTML = '';\n",
              "          dataTable['output_type'] = 'display_data';\n",
              "          await google.colab.output.renderOutput(dataTable, element);\n",
              "          const docLink = document.createElement('div');\n",
              "          docLink.innerHTML = docLinkHtml;\n",
              "          element.appendChild(docLink);\n",
              "        }\n",
              "      </script>\n",
              "    </div>\n",
              "  </div>\n",
              "  "
            ]
          },
          "metadata": {},
          "execution_count": 3
        }
      ]
    },
    {
      "cell_type": "code",
      "source": [
        "df_Stock.tail(5)"
      ],
      "metadata": {
        "colab": {
          "base_uri": "https://localhost:8080/",
          "height": 435
        },
        "id": "tAVI7XfLldsC",
        "outputId": "902f1099-f43e-42bd-dad0-97a37c20161a"
      },
      "execution_count": null,
      "outputs": [
        {
          "output_type": "execute_result",
          "data": {
            "text/plain": [
              "              Open    High     Low   Close    Volume       SD20  Upper_Band  \\\n",
              "Date                                                                          \n",
              "2020-08-07  452.82  454.70  441.17  444.45  49453300  27.954399  455.316298   \n",
              "2020-08-10  450.40  455.10  440.00  450.91  53100900  29.847338  462.586675   \n",
              "2020-08-11  447.88  449.93  436.43  437.50  46975600  30.576290  466.543079   \n",
              "2020-08-12  441.99  453.10  441.19  452.04  41486200  32.050532  472.583564   \n",
              "2020-08-13  457.72  464.17  455.71  460.04  52520500  33.532634  479.279768   \n",
              "\n",
              "            Lower_Band  S_Close(t-1)  S_Close(t-2)  ...  QQQ_MA10  QQQ_MA20  \\\n",
              "Date                                                ...                       \n",
              "2020-08-07  343.498702        454.79        439.46  ...   266.054  263.4085   \n",
              "2020-08-10  343.197325        444.45        454.79  ...   267.073  263.9970   \n",
              "2020-08-11  344.237921        450.91        444.45  ...   267.911  264.2380   \n",
              "2020-08-12  344.381436        437.50        450.91  ...   269.120  264.7860   \n",
              "2020-08-13  345.149232        452.04        437.50  ...   270.255  265.4540   \n",
              "\n",
              "            QQQ_MA50  SnP_Close  SnP(t-1))  SnP(t-5)  DJIA_Close  DJIA(t-1))  \\\n",
              "Date                                                                           \n",
              "2020-08-07  252.2098    3351.28    3349.16   3271.12    27433.48    27386.98   \n",
              "2020-08-10  252.9570    3360.47    3351.28   3294.61    27791.44    27433.48   \n",
              "2020-08-11  253.5878    3333.69    3360.47   3306.51    27686.91    27791.44   \n",
              "2020-08-12  254.3206    3380.35    3333.69   3327.77    27976.84    27686.91   \n",
              "2020-08-13  255.0446    3373.43    3380.35   3349.16    27896.72    27976.84   \n",
              "\n",
              "            DJIA(t-5)  Close_forcast  \n",
              "Date                                  \n",
              "2020-08-07   26428.32         450.91  \n",
              "2020-08-10   26664.40         437.50  \n",
              "2020-08-11   26828.47         452.04  \n",
              "2020-08-12   27201.52         460.04  \n",
              "2020-08-13   27386.98         459.63  \n",
              "\n",
              "[5 rows x 63 columns]"
            ],
            "text/html": [
              "\n",
              "  <div id=\"df-8516a53c-07e9-46f3-b485-bc425b2e2cf9\">\n",
              "    <div class=\"colab-df-container\">\n",
              "      <div>\n",
              "<style scoped>\n",
              "    .dataframe tbody tr th:only-of-type {\n",
              "        vertical-align: middle;\n",
              "    }\n",
              "\n",
              "    .dataframe tbody tr th {\n",
              "        vertical-align: top;\n",
              "    }\n",
              "\n",
              "    .dataframe thead th {\n",
              "        text-align: right;\n",
              "    }\n",
              "</style>\n",
              "<table border=\"1\" class=\"dataframe\">\n",
              "  <thead>\n",
              "    <tr style=\"text-align: right;\">\n",
              "      <th></th>\n",
              "      <th>Open</th>\n",
              "      <th>High</th>\n",
              "      <th>Low</th>\n",
              "      <th>Close</th>\n",
              "      <th>Volume</th>\n",
              "      <th>SD20</th>\n",
              "      <th>Upper_Band</th>\n",
              "      <th>Lower_Band</th>\n",
              "      <th>S_Close(t-1)</th>\n",
              "      <th>S_Close(t-2)</th>\n",
              "      <th>...</th>\n",
              "      <th>QQQ_MA10</th>\n",
              "      <th>QQQ_MA20</th>\n",
              "      <th>QQQ_MA50</th>\n",
              "      <th>SnP_Close</th>\n",
              "      <th>SnP(t-1))</th>\n",
              "      <th>SnP(t-5)</th>\n",
              "      <th>DJIA_Close</th>\n",
              "      <th>DJIA(t-1))</th>\n",
              "      <th>DJIA(t-5)</th>\n",
              "      <th>Close_forcast</th>\n",
              "    </tr>\n",
              "    <tr>\n",
              "      <th>Date</th>\n",
              "      <th></th>\n",
              "      <th></th>\n",
              "      <th></th>\n",
              "      <th></th>\n",
              "      <th></th>\n",
              "      <th></th>\n",
              "      <th></th>\n",
              "      <th></th>\n",
              "      <th></th>\n",
              "      <th></th>\n",
              "      <th></th>\n",
              "      <th></th>\n",
              "      <th></th>\n",
              "      <th></th>\n",
              "      <th></th>\n",
              "      <th></th>\n",
              "      <th></th>\n",
              "      <th></th>\n",
              "      <th></th>\n",
              "      <th></th>\n",
              "      <th></th>\n",
              "    </tr>\n",
              "  </thead>\n",
              "  <tbody>\n",
              "    <tr>\n",
              "      <th>2020-08-07</th>\n",
              "      <td>452.82</td>\n",
              "      <td>454.70</td>\n",
              "      <td>441.17</td>\n",
              "      <td>444.45</td>\n",
              "      <td>49453300</td>\n",
              "      <td>27.954399</td>\n",
              "      <td>455.316298</td>\n",
              "      <td>343.498702</td>\n",
              "      <td>454.79</td>\n",
              "      <td>439.46</td>\n",
              "      <td>...</td>\n",
              "      <td>266.054</td>\n",
              "      <td>263.4085</td>\n",
              "      <td>252.2098</td>\n",
              "      <td>3351.28</td>\n",
              "      <td>3349.16</td>\n",
              "      <td>3271.12</td>\n",
              "      <td>27433.48</td>\n",
              "      <td>27386.98</td>\n",
              "      <td>26428.32</td>\n",
              "      <td>450.91</td>\n",
              "    </tr>\n",
              "    <tr>\n",
              "      <th>2020-08-10</th>\n",
              "      <td>450.40</td>\n",
              "      <td>455.10</td>\n",
              "      <td>440.00</td>\n",
              "      <td>450.91</td>\n",
              "      <td>53100900</td>\n",
              "      <td>29.847338</td>\n",
              "      <td>462.586675</td>\n",
              "      <td>343.197325</td>\n",
              "      <td>444.45</td>\n",
              "      <td>454.79</td>\n",
              "      <td>...</td>\n",
              "      <td>267.073</td>\n",
              "      <td>263.9970</td>\n",
              "      <td>252.9570</td>\n",
              "      <td>3360.47</td>\n",
              "      <td>3351.28</td>\n",
              "      <td>3294.61</td>\n",
              "      <td>27791.44</td>\n",
              "      <td>27433.48</td>\n",
              "      <td>26664.40</td>\n",
              "      <td>437.50</td>\n",
              "    </tr>\n",
              "    <tr>\n",
              "      <th>2020-08-11</th>\n",
              "      <td>447.88</td>\n",
              "      <td>449.93</td>\n",
              "      <td>436.43</td>\n",
              "      <td>437.50</td>\n",
              "      <td>46975600</td>\n",
              "      <td>30.576290</td>\n",
              "      <td>466.543079</td>\n",
              "      <td>344.237921</td>\n",
              "      <td>450.91</td>\n",
              "      <td>444.45</td>\n",
              "      <td>...</td>\n",
              "      <td>267.911</td>\n",
              "      <td>264.2380</td>\n",
              "      <td>253.5878</td>\n",
              "      <td>3333.69</td>\n",
              "      <td>3360.47</td>\n",
              "      <td>3306.51</td>\n",
              "      <td>27686.91</td>\n",
              "      <td>27791.44</td>\n",
              "      <td>26828.47</td>\n",
              "      <td>452.04</td>\n",
              "    </tr>\n",
              "    <tr>\n",
              "      <th>2020-08-12</th>\n",
              "      <td>441.99</td>\n",
              "      <td>453.10</td>\n",
              "      <td>441.19</td>\n",
              "      <td>452.04</td>\n",
              "      <td>41486200</td>\n",
              "      <td>32.050532</td>\n",
              "      <td>472.583564</td>\n",
              "      <td>344.381436</td>\n",
              "      <td>437.50</td>\n",
              "      <td>450.91</td>\n",
              "      <td>...</td>\n",
              "      <td>269.120</td>\n",
              "      <td>264.7860</td>\n",
              "      <td>254.3206</td>\n",
              "      <td>3380.35</td>\n",
              "      <td>3333.69</td>\n",
              "      <td>3327.77</td>\n",
              "      <td>27976.84</td>\n",
              "      <td>27686.91</td>\n",
              "      <td>27201.52</td>\n",
              "      <td>460.04</td>\n",
              "    </tr>\n",
              "    <tr>\n",
              "      <th>2020-08-13</th>\n",
              "      <td>457.72</td>\n",
              "      <td>464.17</td>\n",
              "      <td>455.71</td>\n",
              "      <td>460.04</td>\n",
              "      <td>52520500</td>\n",
              "      <td>33.532634</td>\n",
              "      <td>479.279768</td>\n",
              "      <td>345.149232</td>\n",
              "      <td>452.04</td>\n",
              "      <td>437.50</td>\n",
              "      <td>...</td>\n",
              "      <td>270.255</td>\n",
              "      <td>265.4540</td>\n",
              "      <td>255.0446</td>\n",
              "      <td>3373.43</td>\n",
              "      <td>3380.35</td>\n",
              "      <td>3349.16</td>\n",
              "      <td>27896.72</td>\n",
              "      <td>27976.84</td>\n",
              "      <td>27386.98</td>\n",
              "      <td>459.63</td>\n",
              "    </tr>\n",
              "  </tbody>\n",
              "</table>\n",
              "<p>5 rows × 63 columns</p>\n",
              "</div>\n",
              "      <button class=\"colab-df-convert\" onclick=\"convertToInteractive('df-8516a53c-07e9-46f3-b485-bc425b2e2cf9')\"\n",
              "              title=\"Convert this dataframe to an interactive table.\"\n",
              "              style=\"display:none;\">\n",
              "        \n",
              "  <svg xmlns=\"http://www.w3.org/2000/svg\" height=\"24px\"viewBox=\"0 0 24 24\"\n",
              "       width=\"24px\">\n",
              "    <path d=\"M0 0h24v24H0V0z\" fill=\"none\"/>\n",
              "    <path d=\"M18.56 5.44l.94 2.06.94-2.06 2.06-.94-2.06-.94-.94-2.06-.94 2.06-2.06.94zm-11 1L8.5 8.5l.94-2.06 2.06-.94-2.06-.94L8.5 2.5l-.94 2.06-2.06.94zm10 10l.94 2.06.94-2.06 2.06-.94-2.06-.94-.94-2.06-.94 2.06-2.06.94z\"/><path d=\"M17.41 7.96l-1.37-1.37c-.4-.4-.92-.59-1.43-.59-.52 0-1.04.2-1.43.59L10.3 9.45l-7.72 7.72c-.78.78-.78 2.05 0 2.83L4 21.41c.39.39.9.59 1.41.59.51 0 1.02-.2 1.41-.59l7.78-7.78 2.81-2.81c.8-.78.8-2.07 0-2.86zM5.41 20L4 18.59l7.72-7.72 1.47 1.35L5.41 20z\"/>\n",
              "  </svg>\n",
              "      </button>\n",
              "      \n",
              "  <style>\n",
              "    .colab-df-container {\n",
              "      display:flex;\n",
              "      flex-wrap:wrap;\n",
              "      gap: 12px;\n",
              "    }\n",
              "\n",
              "    .colab-df-convert {\n",
              "      background-color: #E8F0FE;\n",
              "      border: none;\n",
              "      border-radius: 50%;\n",
              "      cursor: pointer;\n",
              "      display: none;\n",
              "      fill: #1967D2;\n",
              "      height: 32px;\n",
              "      padding: 0 0 0 0;\n",
              "      width: 32px;\n",
              "    }\n",
              "\n",
              "    .colab-df-convert:hover {\n",
              "      background-color: #E2EBFA;\n",
              "      box-shadow: 0px 1px 2px rgba(60, 64, 67, 0.3), 0px 1px 3px 1px rgba(60, 64, 67, 0.15);\n",
              "      fill: #174EA6;\n",
              "    }\n",
              "\n",
              "    [theme=dark] .colab-df-convert {\n",
              "      background-color: #3B4455;\n",
              "      fill: #D2E3FC;\n",
              "    }\n",
              "\n",
              "    [theme=dark] .colab-df-convert:hover {\n",
              "      background-color: #434B5C;\n",
              "      box-shadow: 0px 1px 3px 1px rgba(0, 0, 0, 0.15);\n",
              "      filter: drop-shadow(0px 1px 2px rgba(0, 0, 0, 0.3));\n",
              "      fill: #FFFFFF;\n",
              "    }\n",
              "  </style>\n",
              "\n",
              "      <script>\n",
              "        const buttonEl =\n",
              "          document.querySelector('#df-8516a53c-07e9-46f3-b485-bc425b2e2cf9 button.colab-df-convert');\n",
              "        buttonEl.style.display =\n",
              "          google.colab.kernel.accessAllowed ? 'block' : 'none';\n",
              "\n",
              "        async function convertToInteractive(key) {\n",
              "          const element = document.querySelector('#df-8516a53c-07e9-46f3-b485-bc425b2e2cf9');\n",
              "          const dataTable =\n",
              "            await google.colab.kernel.invokeFunction('convertToInteractive',\n",
              "                                                     [key], {});\n",
              "          if (!dataTable) return;\n",
              "\n",
              "          const docLinkHtml = 'Like what you see? Visit the ' +\n",
              "            '<a target=\"_blank\" href=https://colab.research.google.com/notebooks/data_table.ipynb>data table notebook</a>'\n",
              "            + ' to learn more about interactive tables.';\n",
              "          element.innerHTML = '';\n",
              "          dataTable['output_type'] = 'display_data';\n",
              "          await google.colab.output.renderOutput(dataTable, element);\n",
              "          const docLink = document.createElement('div');\n",
              "          docLink.innerHTML = docLinkHtml;\n",
              "          element.appendChild(docLink);\n",
              "        }\n",
              "      </script>\n",
              "    </div>\n",
              "  </div>\n",
              "  "
            ]
          },
          "metadata": {},
          "execution_count": 4
        }
      ]
    },
    {
      "cell_type": "code",
      "source": [
        "df_Stock.shape"
      ],
      "metadata": {
        "colab": {
          "base_uri": "https://localhost:8080/"
        },
        "id": "cBprq-C-lhVh",
        "outputId": "301399a8-d09a-4827-c625-63f3e4016124"
      },
      "execution_count": null,
      "outputs": [
        {
          "output_type": "execute_result",
          "data": {
            "text/plain": [
              "(3732, 63)"
            ]
          },
          "metadata": {},
          "execution_count": 5
        }
      ]
    },
    {
      "cell_type": "code",
      "source": [
        "df_Stock.columns"
      ],
      "metadata": {
        "colab": {
          "base_uri": "https://localhost:8080/"
        },
        "id": "iRCjVr9OlhuZ",
        "outputId": "4fc597ab-1444-4979-b8b3-d80804b89155"
      },
      "execution_count": null,
      "outputs": [
        {
          "output_type": "execute_result",
          "data": {
            "text/plain": [
              "Index(['Open', 'High', 'Low', 'Close', 'Volume', 'SD20', 'Upper_Band',\n",
              "       'Lower_Band', 'S_Close(t-1)', 'S_Close(t-2)', 'S_Close(t-3)',\n",
              "       'S_Close(t-5)', 'S_Open(t-1)', 'MA5', 'MA10', 'MA20', 'MA50', 'MA200',\n",
              "       'EMA10', 'EMA20', 'EMA50', 'EMA100', 'EMA200', 'MACD', 'MACD_EMA',\n",
              "       'ATR', 'ADX', 'CCI', 'ROC', 'RSI', 'William%R', 'SO%K', 'STD5',\n",
              "       'ForceIndex1', 'ForceIndex20', 'Date_col', 'Day', 'DayofWeek',\n",
              "       'DayofYear', 'Week', 'Is_month_end', 'Is_month_start', 'Is_quarter_end',\n",
              "       'Is_quarter_start', 'Is_year_end', 'Is_year_start', 'Is_leap_year',\n",
              "       'Year', 'Month', 'QQQ_Close', 'QQQ(t-1)', 'QQQ(t-2)', 'QQQ(t-5)',\n",
              "       'QQQ_MA10', 'QQQ_MA20', 'QQQ_MA50', 'SnP_Close', 'SnP(t-1))',\n",
              "       'SnP(t-5)', 'DJIA_Close', 'DJIA(t-1))', 'DJIA(t-5)', 'Close_forcast'],\n",
              "      dtype='object')"
            ]
          },
          "metadata": {},
          "execution_count": 6
        }
      ]
    },
    {
      "cell_type": "markdown",
      "source": [
        "#Plot Time Series chart for AAPL"
      ],
      "metadata": {
        "id": "Ul7q448Ul2qE"
      }
    },
    {
      "cell_type": "code",
      "source": [
        "df_Stock['Close'].plot(figsize=(10, 7))\n",
        "plt.title(\"Stock Price\", fontsize=17)\n",
        "plt.ylabel('Price', fontsize=14)\n",
        "plt.xlabel('Time', fontsize=14)\n",
        "plt.grid(which=\"major\", color='k', linestyle='-.', linewidth=0.5)\n",
        "plt.show()"
      ],
      "metadata": {
        "colab": {
          "base_uri": "https://localhost:8080/",
          "height": 651
        },
        "id": "oD4JozGRlh8I",
        "outputId": "bde396a6-e1f9-401b-ccd6-43743b8ff19a"
      },
      "execution_count": null,
      "outputs": [
        {
          "output_type": "display_data",
          "data": {
            "text/plain": [
              "<Figure size 1000x700 with 1 Axes>"
            ],
            "image/png": "[encoded data removed]"
          },
          "metadata": {}
        }
      ]
    },
    {
      "cell_type": "markdown",
      "source": [
        "#Remove some of the columns which are not required"
      ],
      "metadata": {
        "id": "x7QmO3u9mCAW"
      }
    },
    {
      "cell_type": "code",
      "source": [
        "df_Stock = df_Stock.drop(columns='Date_col')"
      ],
      "metadata": {
        "id": "TTrpDL1sl9mq"
      },
      "execution_count": null,
      "outputs": []
    },
    {
      "cell_type": "markdown",
      "source": [
        "#Test Train Set\n",
        "#Close_forecast is the column that we are trying to predict here which is the price for the next day."
      ],
      "metadata": {
        "id": "m6saM4wxmLZA"
      }
    },
    {
      "cell_type": "code",
      "source": [
        "def create_train_test_set(df_Stock):\n",
        "\n",
        "    features = df_Stock.drop(columns=['Close_forcast'], axis=1)\n",
        "    target = df_Stock['Close_forcast']\n",
        "\n",
        "\n",
        "    data_len = df_Stock.shape[0]\n",
        "    print('Historical Stock Data length is - ', str(data_len))\n",
        "\n",
        "    #create a chronological split for train and testing\n",
        "    train_split = int(data_len * 0.88)\n",
        "    print('Training Set length - ', str(train_split))\n",
        "\n",
        "    val_split = train_split + int(data_len * 0.1)\n",
        "    print('Validation Set length - ', str(int(data_len * 0.1)))\n",
        "\n",
        "    print('Test Set length - ', str(int(data_len * 0.02)))\n",
        "\n",
        "    # Splitting features and target into train, validation and test samples\n",
        "    X_train, X_val, X_test = features[:train_split], features[train_split:val_split], features[val_split:]\n",
        "    Y_train, Y_val, Y_test = target[:train_split], target[train_split:val_split], target[val_split:]\n",
        "\n",
        "    #print shape of samples\n",
        "    print(X_train.shape, X_val.shape, X_test.shape)\n",
        "    print(Y_train.shape, Y_val.shape, Y_test.shape)\n",
        "\n",
        "    return X_train, X_val, X_test, Y_train, Y_val, Y_test\n"
      ],
      "metadata": {
        "id": "eyYR2OlZmHKh"
      },
      "execution_count": null,
      "outputs": []
    },
    {
      "cell_type": "code",
      "source": [
        "X_train, X_val, X_test, Y_train, Y_val, Y_test = create_train_test_set(df_Stock)"
      ],
      "metadata": {
        "colab": {
          "base_uri": "https://localhost:8080/"
        },
        "id": "rlcWbsaEmVUj",
        "outputId": "b008ac63-2cb6-4a67-b81b-580318e02523"
      },
      "execution_count": null,
      "outputs": [
        {
          "output_type": "stream",
          "name": "stdout",
          "text": [
            "Historical Stock Data length is -  3732\n",
            "Training Set length -  3284\n",
            "Validation Set length -  373\n",
            "Test Set length -  74\n",
            "(3284, 61) (373, 61) (75, 61)\n",
            "(3284,) (373,) (75,)\n"
          ]
        }
      ]
    },
    {
      "cell_type": "markdown",
      "source": [
        "#Prediction using Linear Regression"
      ],
      "metadata": {
        "id": "X0XlyfHUmeqX"
      }
    },
    {
      "cell_type": "code",
      "source": [
        "from sklearn.linear_model import LinearRegression\n",
        "lr = LinearRegression()\n",
        "lr.fit(X_train, Y_train)"
      ],
      "metadata": {
        "colab": {
          "base_uri": "https://localhost:8080/",
          "height": 75
        },
        "id": "Ur57OrHVmaJu",
        "outputId": "caf04542-7738-40b5-8d4f-0d36000e4368"
      },
      "execution_count": null,
      "outputs": [
        {
          "output_type": "execute_result",
          "data": {
            "text/plain": [
              "LinearRegression()"
            ],
            "text/html": [
              "<style>#sk-container-id-1 {color: black;background-color: white;}#sk-container-id-1 pre{padding: 0;}#sk-container-id-1 div.sk-toggleable {background-color: white;}#sk-container-id-1 label.sk-toggleable__label {cursor: pointer;display: block;width: 100%;margin-bottom: 0;padding: 0.3em;box-sizing: border-box;text-align: center;}#sk-container-id-1 label.sk-toggleable__label-arrow:before {content: \"▸\";float: left;margin-right: 0.25em;color: #696969;}#sk-container-id-1 label.sk-toggleable__label-arrow:hover:before {color: black;}#sk-container-id-1 div.sk-estimator:hover label.sk-toggleable__label-arrow:before {color: black;}#sk-container-id-1 div.sk-toggleable__content {max-height: 0;max-width: 0;overflow: hidden;text-align: left;background-color: #f0f8ff;}#sk-container-id-1 div.sk-toggleable__content pre {margin: 0.2em;color: black;border-radius: 0.25em;background-color: #f0f8ff;}#sk-container-id-1 input.sk-toggleable__control:checked~div.sk-toggleable__content {max-height: 200px;max-width: 100%;overflow: auto;}#sk-container-id-1 input.sk-toggleable__control:checked~label.sk-toggleable__label-arrow:before {content: \"▾\";}#sk-container-id-1 div.sk-estimator input.sk-toggleable__control:checked~label.sk-toggleable__label {background-color: #d4ebff;}#sk-container-id-1 div.sk-label input.sk-toggleable__control:checked~label.sk-toggleable__label {background-color: #d4ebff;}#sk-container-id-1 input.sk-hidden--visually {border: 0;clip: rect(1px 1px 1px 1px);clip: rect(1px, 1px, 1px, 1px);height: 1px;margin: -1px;overflow: hidden;padding: 0;position: absolute;width: 1px;}#sk-container-id-1 div.sk-estimator {font-family: monospace;background-color: #f0f8ff;border: 1px dotted black;border-radius: 0.25em;box-sizing: border-box;margin-bottom: 0.5em;}#sk-container-id-1 div.sk-estimator:hover {background-color: #d4ebff;}#sk-container-id-1 div.sk-parallel-item::after {content: \"\";width: 100%;border-bottom: 1px solid gray;flex-grow: 1;}#sk-container-id-1 div.sk-label:hover label.sk-toggleable__label {background-color: #d4ebff;}#sk-container-id-1 div.sk-serial::before {content: \"\";position: absolute;border-left: 1px solid gray;box-sizing: border-box;top: 0;bottom: 0;left: 50%;z-index: 0;}#sk-container-id-1 div.sk-serial {display: flex;flex-direction: column;align-items: center;background-color: white;padding-right: 0.2em;padding-left: 0.2em;position: relative;}#sk-container-id-1 div.sk-item {position: relative;z-index: 1;}#sk-container-id-1 div.sk-parallel {display: flex;align-items: stretch;justify-content: center;background-color: white;position: relative;}#sk-container-id-1 div.sk-item::before, #sk-container-id-1 div.sk-parallel-item::before {content: \"\";position: absolute;border-left: 1px solid gray;box-sizing: border-box;top: 0;bottom: 0;left: 50%;z-index: -1;}#sk-container-id-1 div.sk-parallel-item {display: flex;flex-direction: column;z-index: 1;position: relative;background-color: white;}#sk-container-id-1 div.sk-parallel-item:first-child::after {align-self: flex-end;width: 50%;}#sk-container-id-1 div.sk-parallel-item:last-child::after {align-self: flex-start;width: 50%;}#sk-container-id-1 div.sk-parallel-item:only-child::after {width: 0;}#sk-container-id-1 div.sk-dashed-wrapped {border: 1px dashed gray;margin: 0 0.4em 0.5em 0.4em;box-sizing: border-box;padding-bottom: 0.4em;background-color: white;}#sk-container-id-1 div.sk-label label {font-family: monospace;font-weight: bold;display: inline-block;line-height: 1.2em;}#sk-container-id-1 div.sk-label-container {text-align: center;}#sk-container-id-1 div.sk-container {/* jupyter's `normalize.less` sets `[hidden] { display: none; }` but bootstrap.min.css set `[hidden] { display: none !important; }` so we also need the `!important` here to be able to override the default hidden behavior on the sphinx rendered scikit-learn.org. See: https://github.com/scikit-learn/scikit-learn/issues/21755 */display: inline-block !important;position: relative;}#sk-container-id-1 div.sk-text-repr-fallback {display: none;}</style><div id=\"sk-container-id-1\" class=\"sk-top-container\"><div class=\"sk-text-repr-fallback\"><pre>LinearRegression()</pre><b>In a Jupyter environment, please rerun this cell to show the HTML representation or trust the notebook. <br />On GitHub, the HTML representation is unable to render, please try loading this page with nbviewer.org.</b></div><div class=\"sk-container\" hidden><div class=\"sk-item\"><div class=\"sk-estimator sk-toggleable\"><input class=\"sk-toggleable__control sk-hidden--visually\" id=\"sk-estimator-id-1\" type=\"checkbox\" checked><label for=\"sk-estimator-id-1\" class=\"sk-toggleable__label sk-toggleable__label-arrow\">LinearRegression</label><div class=\"sk-toggleable__content\"><pre>LinearRegression()</pre></div></div></div></div></div>"
            ]
          },
          "metadata": {},
          "execution_count": 11
        }
      ]
    },
    {
      "cell_type": "code",
      "source": [
        "print('LR Coefficients: \\n', lr.coef_)\n",
        "print('LR Intercept: \\n', lr.intercept_)"
      ],
      "metadata": {
        "colab": {
          "base_uri": "https://localhost:8080/"
        },
        "id": "rN8-b55xmjmQ",
        "outputId": "d1bcef2e-f9b2-4024-d63e-e9dee231bf36"
      },
      "execution_count": null,
      "outputs": [
        {
          "output_type": "stream",
          "name": "stdout",
          "text": [
            "LR Coefficients: \n",
            " [ 8.63719306e-03  1.86051889e-01  1.55487043e-01  1.12263758e+00\n",
            "  1.27287159e-10  6.75244708e-03  1.40229153e-01  1.13219365e-01\n",
            "  4.25628024e-02  8.96348465e-02  1.01914953e-01  5.94183511e-02\n",
            "  7.95194233e-02  7.10399873e-02  2.71425002e-01  1.26724259e-01\n",
            "  8.79333179e-02 -5.87980402e-03 -3.31643385e-01 -3.31643385e-01\n",
            " -3.31643385e-01 -3.31643385e-01 -3.31643385e-01  1.88650007e+00\n",
            " -1.27270719e+00 -1.65042225e-01 -4.36658258e-04 -3.22019841e-12\n",
            " -5.07434257e-03  9.02936523e-03  5.78317035e-04  5.78317024e-04\n",
            " -5.57918031e-01 -2.02305062e-10  4.18934054e-11  1.69322438e-02\n",
            "  1.61636704e-02 -1.75659582e-02  6.12165519e-03  2.15420350e-01\n",
            "  1.13979655e-01 -2.41954674e-01  7.63050309e-02  3.73276597e-01\n",
            "  3.33066907e-16 -5.60843988e-02  4.08788806e-02  5.13473863e-01\n",
            " -2.94431539e-02 -8.41335081e-02  5.10939135e-02 -8.14435718e-03\n",
            " -1.95035196e-02  5.67587251e-02  4.39707788e-02  1.29311738e-02\n",
            " -9.99967544e-03 -3.89778364e-03 -1.62174814e-03  1.44436900e-03\n",
            "  2.83455425e-04]\n",
            "LR Intercept: \n",
            " -83.36486412535557\n"
          ]
        }
      ]
    },
    {
      "cell_type": "markdown",
      "source": [
        "#Evaluation"
      ],
      "metadata": {
        "id": "HoJbotmhmt4Q"
      }
    },
    {
      "cell_type": "code",
      "source": [
        "print(\"Performance (R^2): \", lr.score(X_train, Y_train))"
      ],
      "metadata": {
        "colab": {
          "base_uri": "https://localhost:8080/"
        },
        "id": "-k_7ANDlmmym",
        "outputId": "06e5148a-8f0b-4aa6-b02a-76967ffb4b65"
      },
      "execution_count": null,
      "outputs": [
        {
          "output_type": "stream",
          "name": "stdout",
          "text": [
            "Performance (R^2):  0.9994516474373267\n"
          ]
        }
      ]
    },
    {
      "cell_type": "code",
      "source": [
        "def get_mape(y_true, y_pred):\n",
        "    \"\"\"\n",
        "    Compute mean absolute percentage error (MAPE)\n",
        "    \"\"\"\n",
        "    y_true, y_pred = np.array(y_true), np.array(y_pred)\n",
        "    return np.mean(np.abs((y_true - y_pred) / y_true)) * 100"
      ],
      "metadata": {
        "id": "shIREv2Smyvn"
      },
      "execution_count": null,
      "outputs": []
    },
    {
      "cell_type": "markdown",
      "source": [
        "#Predict for the test dataset"
      ],
      "metadata": {
        "id": "l3mzqG_zm_qK"
      }
    },
    {
      "cell_type": "code",
      "source": [
        "Y_train_pred = lr.predict(X_train)\n",
        "Y_val_pred = lr.predict(X_val)\n",
        "Y_test_pred = lr.predict(X_test)"
      ],
      "metadata": {
        "id": "-R3va-Qcm5QF"
      },
      "execution_count": null,
      "outputs": []
    },
    {
      "cell_type": "code",
      "source": [
        "print(\"Training R-squared: \",round(metrics.r2_score(Y_train,Y_train_pred),2))\n",
        "print(\"Training Explained Variation: \",round(metrics.explained_variance_score(Y_train,Y_train_pred),2))\n",
        "print('Training MAPE:', round(get_mape(Y_train,Y_train_pred), 2))\n",
        "print('Training Mean Squared Error:', round(metrics.mean_squared_error(Y_train,Y_train_pred), 2))\n",
        "print(\"Training RMSE: \",round(np.sqrt(metrics.mean_squared_error(Y_train,Y_train_pred)),2))\n",
        "print(\"Training MAE: \",round(metrics.mean_absolute_error(Y_train,Y_train_pred),2))\n",
        "\n",
        "print(' ')\n",
        "\n",
        "print(\"Validation R-squared: \",round(metrics.r2_score(Y_val,Y_val_pred),2))\n",
        "print(\"Validation Explained Variation: \",round(metrics.explained_variance_score(Y_val,Y_val_pred),2))\n",
        "print('Validation MAPE:', round(get_mape(Y_val,Y_val_pred), 2))\n",
        "print('Validation Mean Squared Error:', round(metrics.mean_squared_error(Y_train,Y_train_pred), 2))\n",
        "print(\"Validation RMSE: \",round(np.sqrt(metrics.mean_squared_error(Y_val,Y_val_pred)),2))\n",
        "print(\"Validation MAE: \",round(metrics.mean_absolute_error(Y_val,Y_val_pred),2))\n",
        "\n",
        "print(' ')\n",
        "\n",
        "print(\"Test R-squared: \",round(metrics.r2_score(Y_test,Y_test_pred),2))\n",
        "print(\"Test Explained Variation: \",round(metrics.explained_variance_score(Y_test,Y_test_pred),2))\n",
        "print('Test MAPE:', round(get_mape(Y_test,Y_test_pred), 2))\n",
        "print('Test Mean Squared Error:', round(metrics.mean_squared_error(Y_test,Y_test_pred), 2))\n",
        "print(\"Test RMSE: \",round(np.sqrt(metrics.mean_squared_error(Y_test,Y_test_pred)),2))\n",
        "print(\"Test MAE: \",round(metrics.mean_absolute_error(Y_test,Y_test_pred),2))\n"
      ],
      "metadata": {
        "colab": {
          "base_uri": "https://localhost:8080/"
        },
        "id": "_uwkWvi9nFNy",
        "outputId": "f8c302e0-a927-4806-c270-eb9c431a4f58"
      },
      "execution_count": null,
      "outputs": [
        {
          "output_type": "stream",
          "name": "stdout",
          "text": [
            "Training R-squared:  1.0\n",
            "Training Explained Variation:  1.0\n",
            "Training MAPE: 1.45\n",
            "Training Mean Squared Error: 1.48\n",
            "Training RMSE:  1.22\n",
            "Training MAE:  0.76\n",
            " \n",
            "Validation R-squared:  0.99\n",
            "Validation Explained Variation:  0.99\n",
            "Validation MAPE: 1.68\n",
            "Validation Mean Squared Error: 1.48\n",
            "Validation RMSE:  5.91\n",
            "Validation MAE:  3.75\n",
            " \n",
            "Test R-squared:  0.96\n",
            "Test Explained Variation:  0.97\n",
            "Test MAPE: 1.77\n",
            "Test Mean Squared Error: 79.21\n",
            "Test RMSE:  8.9\n",
            "Test MAE:  6.5\n"
          ]
        }
      ]
    },
    {
      "cell_type": "markdown",
      "source": [
        "#We have a decent Mean Absolute error but not great. I will create further tuned models in later notebooks. This is just to get you started with the dataset"
      ],
      "metadata": {
        "id": "0J5PhybpnU4f"
      }
    },
    {
      "cell_type": "code",
      "source": [
        "df_pred = pd.DataFrame(Y_val.values, columns=['Actual'], index=Y_val.index)\n",
        "df_pred['Predicted'] = Y_val_pred\n",
        "df_pred = df_pred.reset_index()\n",
        "df_pred.loc[:, 'Date'] = pd.to_datetime(df_pred['Date'],format='%Y-%m-%d')\n",
        "df_pred"
      ],
      "metadata": {
        "colab": {
          "base_uri": "https://localhost:8080/",
          "height": 478
        },
        "id": "gzXVShFinM_0",
        "outputId": "c7ecb078-d38a-4d5a-8c5c-1cc2d35bc961"
      },
      "execution_count": null,
      "outputs": [
        {
          "output_type": "stream",
          "name": "stderr",
          "text": [
            "<ipython-input-17-eb2d0977aa50>:4: DeprecationWarning: In a future version, `df.iloc[:, i] = newvals` will attempt to set the values inplace instead of always setting a new array. To retain the old behavior, use either `df[df.columns[i]] = newvals` or, if columns are non-unique, `df.isetitem(i, newvals)`\n",
            "  df_pred.loc[:, 'Date'] = pd.to_datetime(df_pred['Date'],format='%Y-%m-%d')\n"
          ]
        },
        {
          "output_type": "execute_result",
          "data": {
            "text/plain": [
              "          Date  Actual   Predicted\n",
              "0   2018-11-01  202.30  216.289778\n",
              "1   2018-11-02  196.56  201.470183\n",
              "2   2018-11-05  198.68  195.948933\n",
              "3   2018-11-06  204.71  199.043601\n",
              "4   2018-11-07  204.00  204.193666\n",
              "..         ...     ...         ...\n",
              "368 2020-04-22  273.79  275.751755\n",
              "369 2020-04-23  281.70  274.020243\n",
              "370 2020-04-24  281.90  280.710045\n",
              "371 2020-04-27  277.33  280.543603\n",
              "372 2020-04-28  286.44  276.562125\n",
              "\n",
              "[373 rows x 3 columns]"
            ],
            "text/html": [
              "\n",
              "  <div id=\"df-efff4697-3857-462d-af81-29db178fa966\">\n",
              "    <div class=\"colab-df-container\">\n",
              "      <div>\n",
              "<style scoped>\n",
              "    .dataframe tbody tr th:only-of-type {\n",
              "        vertical-align: middle;\n",
              "    }\n",
              "\n",
              "    .dataframe tbody tr th {\n",
              "        vertical-align: top;\n",
              "    }\n",
              "\n",
              "    .dataframe thead th {\n",
              "        text-align: right;\n",
              "    }\n",
              "</style>\n",
              "<table border=\"1\" class=\"dataframe\">\n",
              "  <thead>\n",
              "    <tr style=\"text-align: right;\">\n",
              "      <th></th>\n",
              "      <th>Date</th>\n",
              "      <th>Actual</th>\n",
              "      <th>Predicted</th>\n",
              "    </tr>\n",
              "  </thead>\n",
              "  <tbody>\n",
              "    <tr>\n",
              "      <th>0</th>\n",
              "      <td>2018-11-01</td>\n",
              "      <td>202.30</td>\n",
              "      <td>216.289778</td>\n",
              "    </tr>\n",
              "    <tr>\n",
              "      <th>1</th>\n",
              "      <td>2018-11-02</td>\n",
              "      <td>196.56</td>\n",
              "      <td>201.470183</td>\n",
              "    </tr>\n",
              "    <tr>\n",
              "      <th>2</th>\n",
              "      <td>2018-11-05</td>\n",
              "      <td>198.68</td>\n",
              "      <td>195.948933</td>\n",
              "    </tr>\n",
              "    <tr>\n",
              "      <th>3</th>\n",
              "      <td>2018-11-06</td>\n",
              "      <td>204.71</td>\n",
              "      <td>199.043601</td>\n",
              "    </tr>\n",
              "    <tr>\n",
              "      <th>4</th>\n",
              "      <td>2018-11-07</td>\n",
              "      <td>204.00</td>\n",
              "      <td>204.193666</td>\n",
              "    </tr>\n",
              "    <tr>\n",
              "      <th>...</th>\n",
              "      <td>...</td>\n",
              "      <td>...</td>\n",
              "      <td>...</td>\n",
              "    </tr>\n",
              "    <tr>\n",
              "      <th>368</th>\n",
              "      <td>2020-04-22</td>\n",
              "      <td>273.79</td>\n",
              "      <td>275.751755</td>\n",
              "    </tr>\n",
              "    <tr>\n",
              "      <th>369</th>\n",
              "      <td>2020-04-23</td>\n",
              "      <td>281.70</td>\n",
              "      <td>274.020243</td>\n",
              "    </tr>\n",
              "    <tr>\n",
              "      <th>370</th>\n",
              "      <td>2020-04-24</td>\n",
              "      <td>281.90</td>\n",
              "      <td>280.710045</td>\n",
              "    </tr>\n",
              "    <tr>\n",
              "      <th>371</th>\n",
              "      <td>2020-04-27</td>\n",
              "      <td>277.33</td>\n",
              "      <td>280.543603</td>\n",
              "    </tr>\n",
              "    <tr>\n",
              "      <th>372</th>\n",
              "      <td>2020-04-28</td>\n",
              "      <td>286.44</td>\n",
              "      <td>276.562125</td>\n",
              "    </tr>\n",
              "  </tbody>\n",
              "</table>\n",
              "<p>373 rows × 3 columns</p>\n",
              "</div>\n",
              "      <button class=\"colab-df-convert\" onclick=\"convertToInteractive('df-efff4697-3857-462d-af81-29db178fa966')\"\n",
              "              title=\"Convert this dataframe to an interactive table.\"\n",
              "              style=\"display:none;\">\n",
              "        \n",
              "  <svg xmlns=\"http://www.w3.org/2000/svg\" height=\"24px\"viewBox=\"0 0 24 24\"\n",
              "       width=\"24px\">\n",
              "    <path d=\"M0 0h24v24H0V0z\" fill=\"none\"/>\n",
              "    <path d=\"M18.56 5.44l.94 2.06.94-2.06 2.06-.94-2.06-.94-.94-2.06-.94 2.06-2.06.94zm-11 1L8.5 8.5l.94-2.06 2.06-.94-2.06-.94L8.5 2.5l-.94 2.06-2.06.94zm10 10l.94 2.06.94-2.06 2.06-.94-2.06-.94-.94-2.06-.94 2.06-2.06.94z\"/><path d=\"M17.41 7.96l-1.37-1.37c-.4-.4-.92-.59-1.43-.59-.52 0-1.04.2-1.43.59L10.3 9.45l-7.72 7.72c-.78.78-.78 2.05 0 2.83L4 21.41c.39.39.9.59 1.41.59.51 0 1.02-.2 1.41-.59l7.78-7.78 2.81-2.81c.8-.78.8-2.07 0-2.86zM5.41 20L4 18.59l7.72-7.72 1.47 1.35L5.41 20z\"/>\n",
              "  </svg>\n",
              "      </button>\n",
              "      \n",
              "  <style>\n",
              "    .colab-df-container {\n",
              "      display:flex;\n",
              "      flex-wrap:wrap;\n",
              "      gap: 12px;\n",
              "    }\n",
              "\n",
              "    .colab-df-convert {\n",
              "      background-color: #E8F0FE;\n",
              "      border: none;\n",
              "      border-radius: 50%;\n",
              "      cursor: pointer;\n",
              "      display: none;\n",
              "      fill: #1967D2;\n",
              "      height: 32px;\n",
              "      padding: 0 0 0 0;\n",
              "      width: 32px;\n",
              "    }\n",
              "\n",
              "    .colab-df-convert:hover {\n",
              "      background-color: #E2EBFA;\n",
              "      box-shadow: 0px 1px 2px rgba(60, 64, 67, 0.3), 0px 1px 3px 1px rgba(60, 64, 67, 0.15);\n",
              "      fill: #174EA6;\n",
              "    }\n",
              "\n",
              "    [theme=dark] .colab-df-convert {\n",
              "      background-color: #3B4455;\n",
              "      fill: #D2E3FC;\n",
              "    }\n",
              "\n",
              "    [theme=dark] .colab-df-convert:hover {\n",
              "      background-color: #434B5C;\n",
              "      box-shadow: 0px 1px 3px 1px rgba(0, 0, 0, 0.15);\n",
              "      filter: drop-shadow(0px 1px 2px rgba(0, 0, 0, 0.3));\n",
              "      fill: #FFFFFF;\n",
              "    }\n",
              "  </style>\n",
              "\n",
              "      <script>\n",
              "        const buttonEl =\n",
              "          document.querySelector('#df-efff4697-3857-462d-af81-29db178fa966 button.colab-df-convert');\n",
              "        buttonEl.style.display =\n",
              "          google.colab.kernel.accessAllowed ? 'block' : 'none';\n",
              "\n",
              "        async function convertToInteractive(key) {\n",
              "          const element = document.querySelector('#df-efff4697-3857-462d-af81-29db178fa966');\n",
              "          const dataTable =\n",
              "            await google.colab.kernel.invokeFunction('convertToInteractive',\n",
              "                                                     [key], {});\n",
              "          if (!dataTable) return;\n",
              "\n",
              "          const docLinkHtml = 'Like what you see? Visit the ' +\n",
              "            '<a target=\"_blank\" href=https://colab.research.google.com/notebooks/data_table.ipynb>data table notebook</a>'\n",
              "            + ' to learn more about interactive tables.';\n",
              "          element.innerHTML = '';\n",
              "          dataTable['output_type'] = 'display_data';\n",
              "          await google.colab.output.renderOutput(dataTable, element);\n",
              "          const docLink = document.createElement('div');\n",
              "          docLink.innerHTML = docLinkHtml;\n",
              "          element.appendChild(docLink);\n",
              "        }\n",
              "      </script>\n",
              "    </div>\n",
              "  </div>\n",
              "  "
            ]
          },
          "metadata": {},
          "execution_count": 17
        }
      ]
    },
    {
      "cell_type": "markdown",
      "source": [
        "#Plot Predicted vs Actual Prices on Time Series plot"
      ],
      "metadata": {
        "id": "VxsU8KFbndbg"
      }
    },
    {
      "cell_type": "code",
      "source": [
        "df_pred[['Actual', 'Predicted']].plot()"
      ],
      "metadata": {
        "colab": {
          "base_uri": "https://localhost:8080/",
          "height": 447
        },
        "id": "5tqYpev8nZMY",
        "outputId": "c01d2877-36a9-49be-eb7d-843cf4ccdeec"
      },
      "execution_count": null,
      "outputs": [
        {
          "output_type": "execute_result",
          "data": {
            "text/plain": [
              "<Axes: >"
            ]
          },
          "metadata": {},
          "execution_count": 18
        },
        {
          "output_type": "display_data",
          "data": {
            "text/plain": [
              "<Figure size 640x480 with 1 Axes>"
            ],
            "image/png": "[encoded data removed]"
          },
          "metadata": {}
        }
      ]
    },
    {
      "cell_type": "markdown",
      "source": [
        "#Overall the Predictions looks good for the test data!"
      ],
      "metadata": {
        "id": "DshrklJpnn6_"
      }
    },
    {
      "cell_type": "code",
      "source": [],
      "metadata": {
        "id": "ErspJgkvniLG"
      },
      "execution_count": null,
      "outputs": []
    }
  ]
}